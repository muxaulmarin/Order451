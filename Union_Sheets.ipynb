{
 "cells": [
  {
   "cell_type": "code",
   "execution_count": 29,
   "metadata": {},
   "outputs": [
    {
     "name": "stdout",
     "output_type": "stream",
     "text": [
      "Путь до xlsx файла без ковычек\n",
      "D:\\Work\\Prikaz_451\\Договоры_СЦБК_2019_01_11_2019.xlsx\n",
      "Уникальный индекс для объединенной таблицы\n",
      "0\n"
     ]
    }
   ],
   "source": [
    "import pandas as pd\n",
    "import numpy as np\n",
    "import os\n",
    "print('Путь до xlsx файла без ковычек')\n",
    "path_to_excel = input()\n",
    "\n",
    "sheet_names = [33, 34, 36, 37, 46, 49, 61, 66, 87, 422, 470, 851, 852, 857, 876, 877, 878, 891, 900]\n",
    "\n",
    "use_cols = ['Номер договора', 'Лесничество', 'Участковое лесничество', \n",
    "            '№ Квартала', '№ Выдела', 'Площадь', 'Статус, полный', \n",
    "            'Исполнитель', 'Имя отчета', 'Комментарий']\n",
    "\n",
    "sheets = []\n",
    "for sheet_name in sheet_names:\n",
    "    sheets.append(pd.read_excel(path_to_excel, sheet_name=str(sheet_name), usecols=use_cols).dropna(axis=0, thresh=5))\n",
    "sheets = pd.concat(sheets)\n",
    "print('Уникальный индекс для объединенной таблицы')\n",
    "sheets['Номер договора'] = sheets['Номер договора'].astype(np.int64)\n",
    "sheets['№ Квартала'] = sheets['№ Квартала'].astype(np.int64)\n",
    "sheets.to_excel(os.path.join(r'D:\\Work\\Prikaz_451', 'Договоры_СЦБК_2019_сводная таблица' + input() + '.xlsx'), index=False)"
   ]
  }
 ],
 "metadata": {
  "kernelspec": {
   "display_name": "Python 3",
   "language": "python",
   "name": "python3"
  },
  "language_info": {
   "codemirror_mode": {
    "name": "ipython",
    "version": 3
   },
   "file_extension": ".py",
   "mimetype": "text/x-python",
   "name": "python",
   "nbconvert_exporter": "python",
   "pygments_lexer": "ipython3",
   "version": "3.7.3"
  }
 },
 "nbformat": 4,
 "nbformat_minor": 2
}
