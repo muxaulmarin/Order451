{
 "cells": [
  {
   "cell_type": "code",
   "execution_count": 28,
   "metadata": {},
   "outputs": [],
   "source": [
    "import os\n",
    "\n",
    "#folder = input()\n",
    "folder = r'D:\\Work\\Prikaz_451\\RAW\\СЦБК\\Сканы абрисов\\Красновишерск\\66 договор'\n",
    "\n",
    "files = [os.path.join(folder, file) for file in os.listdir(folder)]\n",
    "for file in files:\n",
    "    path = '\\\\'.join(file.split('\\\\')[:-1])\n",
    "    name = 'Обработан_' + file.split('\\\\')[-1]\n",
    "    os.rename(file, os.path.join(path, name))"
   ]
  }
 ],
 "metadata": {
  "kernelspec": {
   "display_name": "Python 3",
   "language": "python",
   "name": "python3"
  },
  "language_info": {
   "codemirror_mode": {
    "name": "ipython",
    "version": 3
   },
   "file_extension": ".py",
   "mimetype": "text/x-python",
   "name": "python",
   "nbconvert_exporter": "python",
   "pygments_lexer": "ipython3",
   "version": "3.7.3"
  }
 },
 "nbformat": 4,
 "nbformat_minor": 2
}
